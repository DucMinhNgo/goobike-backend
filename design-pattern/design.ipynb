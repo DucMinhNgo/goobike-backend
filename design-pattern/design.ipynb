{
 "cells": [
  {
   "cell_type": "markdown",
   "metadata": {},
   "source": [
    "# 5 Design Pattern\n",
    "Adapter, builder, proxy, decorator, facade"
   ]
  },
  {
   "cell_type": "markdown",
   "metadata": {},
   "source": [
    "# Adapter\n",
    "https://viblo.asia/p/adapter-design-pattern-tro-thu-dac-luc-cua-developers-Az45bqYQlxY\n",
    "Adapter (wrapper): Structural Pattern\n",
    "- Là thiết kế chuyển đổi khuân mẫu Interface của một lớp thành một khuân mẫu khác mà phía client mong muốn. Cho phép hai khuân mẫu không liên quan làm việc cùng nhau.\n",
    "\n",
    "Tại sao sử dụng: Ví dụ hệ thống đang làm việc với dữ liệu XML nhưng muốn tích hợp bên thứ 3 để cải thiện lại hệ thống. vì thế cần phải có Adapter để chuyển đổi hai kiểu dữ liệu mà không làm thay đổi code.\n"
   ]
  }
 ],
 "metadata": {
  "language_info": {
   "name": "python"
  },
  "orig_nbformat": 4
 },
 "nbformat": 4,
 "nbformat_minor": 2
}
