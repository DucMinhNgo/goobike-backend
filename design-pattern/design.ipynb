{
 "cells": [
  {
   "cell_type": "markdown",
   "metadata": {},
   "source": [
    "# 5 Design Pattern\n",
    "Adapter, builder, proxy, decorator, facade"
   ]
  },
  {
   "cell_type": "markdown",
   "metadata": {},
   "source": [
    "# Adapter\n",
    "https://viblo.asia/p/adapter-design-pattern-tro-thu-dac-luc-cua-developers-Az45bqYQlxY\n",
    "Adapter (wrapper): Structural Pattern\n",
    "- Là thiết kế chuyển đổi khuân mẫu Interface của một lớp thành một khuân mẫu khác mà phía client mong muốn. Cho phép hai khuân mẫu không liên quan làm việc cùng nhau.\n",
    "\n",
    "Tại sao sử dụng: Ví dụ hệ thống đang làm việc với dữ liệu XML nhưng muốn tích hợp bên thứ 3 để cải thiện lại hệ thống. vì thế cần phải có Adapter để chuyển đổi hai kiểu dữ liệu mà không làm thay đổi code.\n"
   ]
  },
  {
   "cell_type": "markdown",
   "metadata": {},
   "source": [
    "# Builder\n",
    "https://techmaster.vn/posts/36713/builder-pattern-trong-golang\n",
    "Builder: Creational Design Patterns: Mẫu thiết kế cho phép lập trình viên tạo ra những đối tượng phức tạp chỉ cần thông quá các câu lệnh đơn giản để tác động nên các thuộc tính của nó.\n",
    "\n",
    "- Một số trường hợp nên sử dụng builder.\n",
    "+ Các class chứa quá nhiều hàm khởi tạo hoặc các hàm khởi tạo quá cồng kềnh hoặc phức tạp.\n",
    "\n",
    "# Ví dụ: Tạo 2 hai loại điện thoại là samsung và iphone gồm 4 thuộc tính: Camera, Dual Sim Slot, Torch, Colour Display Screen.\n",
    "\n",
    "\n"
   ]
  }
 ],
 "metadata": {
  "language_info": {
   "name": "python"
  },
  "orig_nbformat": 4
 },
 "nbformat": 4,
 "nbformat_minor": 2
}
